{
 "cells": [
  {
   "cell_type": "code",
   "execution_count": 23,
   "id": "26c74fb2-f1b1-44af-b004-986582b14bec",
   "metadata": {},
   "outputs": [],
   "source": [
    "import pickle\n",
    "filename = \"Deploy_Load_PreprocessXY.sav\"\n",
    "X_StandardScalar = \"X_StandardScalar.sav\"\n",
    "Y_StandardScalar = \"Y_StandardScalar.sav\""
   ]
  },
  {
   "cell_type": "code",
   "execution_count": 25,
   "id": "08380d9a-6d01-4123-98e6-54a59101933d",
   "metadata": {},
   "outputs": [],
   "source": [
    "X_StandardScalar = pickle.load(open(X_StandardScalar,'rb'))\n",
    "preinput = X_StandardScalar.transform([['101913.08','110594.11','229160.95','1','0']])"
   ]
  },
  {
   "cell_type": "code",
   "execution_count": 27,
   "id": "ec06b0be-9123-48c3-9603-9e331ce7aaa2",
   "metadata": {},
   "outputs": [],
   "source": [
    "loaded_model = pickle.load(open(filename,'rb'))"
   ]
  },
  {
   "cell_type": "code",
   "execution_count": 29,
   "id": "691ee715-51ba-423d-89f6-bb2bf522b0e0",
   "metadata": {},
   "outputs": [],
   "source": [
    "result = loaded_model.predict(preinput)"
   ]
  },
  {
   "cell_type": "code",
   "execution_count": 31,
   "id": "e507af00-0938-4d00-8333-4846ffe28f4f",
   "metadata": {},
   "outputs": [
    {
     "data": {
      "text/plain": [
       "array([45463.63110697])"
      ]
     },
     "execution_count": 31,
     "metadata": {},
     "output_type": "execute_result"
    }
   ],
   "source": [
    "result"
   ]
  },
  {
   "cell_type": "code",
   "execution_count": 35,
   "id": "0e8f591c-119c-41ad-8a1c-78e1be63f097",
   "metadata": {},
   "outputs": [
    {
     "data": {
      "text/plain": [
       "array([[45463.63110697]])"
      ]
     },
     "execution_count": 35,
     "metadata": {},
     "output_type": "execute_result"
    }
   ],
   "source": [
    "Y_StandardScalar = pickle.load(open(Y_StandardScalar,'rb'))\n",
    "preoutput = Y_StandardScalar.inverse_transform([result])\n",
    "preoutput"
   ]
  },
  {
   "cell_type": "code",
   "execution_count": null,
   "id": "d5a6c187-7cec-4e85-a597-eb7212b3e81e",
   "metadata": {},
   "outputs": [],
   "source": []
  }
 ],
 "metadata": {
  "kernelspec": {
   "display_name": "Python 3 (ipykernel)",
   "language": "python",
   "name": "python3"
  },
  "language_info": {
   "codemirror_mode": {
    "name": "ipython",
    "version": 3
   },
   "file_extension": ".py",
   "mimetype": "text/x-python",
   "name": "python",
   "nbconvert_exporter": "python",
   "pygments_lexer": "ipython3",
   "version": "3.12.4"
  }
 },
 "nbformat": 4,
 "nbformat_minor": 5
}

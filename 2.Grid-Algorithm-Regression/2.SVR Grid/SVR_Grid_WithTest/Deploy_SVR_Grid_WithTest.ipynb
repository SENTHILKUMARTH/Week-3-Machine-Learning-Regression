{
 "cells": [
  {
   "cell_type": "code",
   "execution_count": 1,
   "id": "7f207e39-a23d-4d29-95ab-4a61801d8773",
   "metadata": {},
   "outputs": [],
   "source": [
    "import pickle"
   ]
  },
  {
   "cell_type": "code",
   "execution_count": 9,
   "id": "b2dd6889-5a94-4dab-9d44-d623b02bb820",
   "metadata": {},
   "outputs": [],
   "source": [
    "filename = \"Deploy_Phase_SVR_Grid_With_Test\""
   ]
  },
  {
   "cell_type": "code",
   "execution_count": 11,
   "id": "65dfa13a-e712-461c-813d-e4be638d708e",
   "metadata": {},
   "outputs": [],
   "source": [
    "loaded_model = pickle.load(open(filename, 'rb'))"
   ]
  },
  {
   "cell_type": "code",
   "execution_count": 13,
   "id": "f91b348c-74a2-42c0-83ce-0798a3d121fb",
   "metadata": {},
   "outputs": [],
   "source": [
    "result = loaded_model.predict([[35,40,2,0,0]])"
   ]
  },
  {
   "cell_type": "code",
   "execution_count": 15,
   "id": "05f6efe5-0e0f-4bb1-874f-519fac869119",
   "metadata": {},
   "outputs": [
    {
     "data": {
      "text/plain": [
       "array([6001748.3758751])"
      ]
     },
     "execution_count": 15,
     "metadata": {},
     "output_type": "execute_result"
    }
   ],
   "source": [
    "result"
   ]
  },
  {
   "cell_type": "code",
   "execution_count": null,
   "id": "47bf1f01-ae14-4891-ba1e-86e0ad2cd6b5",
   "metadata": {},
   "outputs": [],
   "source": []
  }
 ],
 "metadata": {
  "kernelspec": {
   "display_name": "Python 3 (ipykernel)",
   "language": "python",
   "name": "python3"
  },
  "language_info": {
   "codemirror_mode": {
    "name": "ipython",
    "version": 3
   },
   "file_extension": ".py",
   "mimetype": "text/x-python",
   "name": "python",
   "nbconvert_exporter": "python",
   "pygments_lexer": "ipython3",
   "version": "3.12.4"
  }
 },
 "nbformat": 4,
 "nbformat_minor": 5
}

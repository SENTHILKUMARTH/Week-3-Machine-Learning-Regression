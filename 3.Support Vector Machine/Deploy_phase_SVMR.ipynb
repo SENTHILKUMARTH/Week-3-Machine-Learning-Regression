{
 "cells": [
  {
   "cell_type": "code",
   "execution_count": 1,
   "id": "82514ef6-b121-4ea6-be1b-5cfbe75f30f0",
   "metadata": {},
   "outputs": [],
   "source": [
    "import pickle\n",
    "filename = 'Deploy_Phase_SVMR.sav'"
   ]
  },
  {
   "cell_type": "code",
   "execution_count": 3,
   "id": "3dd976dd-e6f8-4a12-9114-d509baaeec62",
   "metadata": {},
   "outputs": [],
   "source": [
    "loaded_model = pickle.load(open(filename,'rb'))"
   ]
  },
  {
   "cell_type": "code",
   "execution_count": 5,
   "id": "e3f3b533-62da-4cfd-ab43-1c7d0dc44fe8",
   "metadata": {},
   "outputs": [
    {
     "data": {
      "text/plain": [
       "array([4.78608482e+09])"
      ]
     },
     "execution_count": 5,
     "metadata": {},
     "output_type": "execute_result"
    }
   ],
   "source": [
    "result = loaded_model.predict([['101913.08','110594.11','229160.95','1','0']])\n",
    "result"
   ]
  },
  {
   "cell_type": "code",
   "execution_count": null,
   "id": "91ffffdb-57ec-44f0-9ae2-e7d04280f6d1",
   "metadata": {},
   "outputs": [],
   "source": []
  }
 ],
 "metadata": {
  "kernelspec": {
   "display_name": "Python 3 (ipykernel)",
   "language": "python",
   "name": "python3"
  },
  "language_info": {
   "codemirror_mode": {
    "name": "ipython",
    "version": 3
   },
   "file_extension": ".py",
   "mimetype": "text/x-python",
   "name": "python",
   "nbconvert_exporter": "python",
   "pygments_lexer": "ipython3",
   "version": "3.12.4"
  }
 },
 "nbformat": 4,
 "nbformat_minor": 5
}

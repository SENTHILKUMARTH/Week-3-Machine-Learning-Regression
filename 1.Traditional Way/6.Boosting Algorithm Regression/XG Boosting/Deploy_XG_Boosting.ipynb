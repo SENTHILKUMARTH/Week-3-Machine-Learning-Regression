{
 "cells": [
  {
   "cell_type": "code",
   "execution_count": 1,
   "id": "b5b67b22-c323-470f-96da-d750a9a006b9",
   "metadata": {},
   "outputs": [],
   "source": [
    "import pickle\n",
    "filename = \"Deploy_XG_Boosting.sav\""
   ]
  },
  {
   "cell_type": "code",
   "execution_count": 5,
   "id": "9f16adf9-ed6f-4c28-ba9d-11927fe49217",
   "metadata": {},
   "outputs": [
    {
     "data": {
      "text/plain": [
       "array([16936.674], dtype=float32)"
      ]
     },
     "execution_count": 5,
     "metadata": {},
     "output_type": "execute_result"
    }
   ],
   "source": [
    "loaded_model = pickle.load(open(filename,'rb'))\n",
    "result =  loaded_model.predict([[19,27.900,\t0,\t0,\t1]])\n",
    "result"
   ]
  },
  {
   "cell_type": "code",
   "execution_count": null,
   "id": "b380a273-798a-4636-b007-8ba2da1327de",
   "metadata": {},
   "outputs": [],
   "source": []
  }
 ],
 "metadata": {
  "kernelspec": {
   "display_name": "Python 3 (ipykernel)",
   "language": "python",
   "name": "python3"
  },
  "language_info": {
   "codemirror_mode": {
    "name": "ipython",
    "version": 3
   },
   "file_extension": ".py",
   "mimetype": "text/x-python",
   "name": "python",
   "nbconvert_exporter": "python",
   "pygments_lexer": "ipython3",
   "version": "3.12.4"
  }
 },
 "nbformat": 4,
 "nbformat_minor": 5
}

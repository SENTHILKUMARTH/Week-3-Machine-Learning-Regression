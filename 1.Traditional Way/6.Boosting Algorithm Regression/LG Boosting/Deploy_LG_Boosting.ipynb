{
 "cells": [
  {
   "cell_type": "code",
   "execution_count": 1,
   "id": "cd0a6ee2-5259-4433-9100-690c6d4f2dc7",
   "metadata": {},
   "outputs": [],
   "source": [
    "import pickle\n",
    "filename = 'deploy_LG_Boost.sav'"
   ]
  },
  {
   "cell_type": "code",
   "execution_count": 5,
   "id": "0ba0526d-4404-45c1-8ebd-3fe3cf9e1281",
   "metadata": {},
   "outputs": [],
   "source": [
    "loaded_model = pickle.load(open(filename,'rb'))"
   ]
  },
  {
   "cell_type": "code",
   "execution_count": 7,
   "id": "4760c137-d73a-4027-ad9c-133b5292a061",
   "metadata": {},
   "outputs": [
    {
     "data": {
      "text/plain": [
       "array([17506.89176097])"
      ]
     },
     "execution_count": 7,
     "metadata": {},
     "output_type": "execute_result"
    }
   ],
   "source": [
    "result = loaded_model.predict([[19,27.900,0, 0,1]])\n",
    "result"
   ]
  },
  {
   "cell_type": "code",
   "execution_count": null,
   "id": "9b6f085e-4fe0-4624-99bf-9f54250cf624",
   "metadata": {},
   "outputs": [],
   "source": []
  }
 ],
 "metadata": {
  "kernelspec": {
   "display_name": "Python 3 (ipykernel)",
   "language": "python",
   "name": "python3"
  },
  "language_info": {
   "codemirror_mode": {
    "name": "ipython",
    "version": 3
   },
   "file_extension": ".py",
   "mimetype": "text/x-python",
   "name": "python",
   "nbconvert_exporter": "python",
   "pygments_lexer": "ipython3",
   "version": "3.12.4"
  }
 },
 "nbformat": 4,
 "nbformat_minor": 5
}

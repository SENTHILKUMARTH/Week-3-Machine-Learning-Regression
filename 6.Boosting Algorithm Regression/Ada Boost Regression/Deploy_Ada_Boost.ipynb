{
 "cells": [
  {
   "cell_type": "code",
   "execution_count": 1,
   "id": "7004c789-db81-4aeb-8bbb-f9847143bb27",
   "metadata": {},
   "outputs": [],
   "source": [
    "import pickle\n",
    "filename = \"Deploy_Ada_Boost.sav\""
   ]
  },
  {
   "cell_type": "code",
   "execution_count": 5,
   "id": "4a7ea93b-487a-41c3-ba95-8f4dd61d120d",
   "metadata": {},
   "outputs": [],
   "source": [
    "loaded_model = pickle.load(open(filename,'rb'))"
   ]
  },
  {
   "cell_type": "code",
   "execution_count": 7,
   "id": "0e9c5f78-cb31-42eb-aaad-10a70ca222f6",
   "metadata": {},
   "outputs": [
    {
     "name": "stderr",
     "output_type": "stream",
     "text": [
      "C:\\ProgramData\\anaconda3\\Lib\\site-packages\\sklearn\\base.py:493: UserWarning: X does not have valid feature names, but AdaBoostRegressor was fitted with feature names\n",
      "  warnings.warn(\n"
     ]
    },
    {
     "data": {
      "text/plain": [
       "array([18509.57851694])"
      ]
     },
     "execution_count": 7,
     "metadata": {},
     "output_type": "execute_result"
    }
   ],
   "source": [
    "result = loaded_model.predict([[19,27.900,0,0,1]])\n",
    "result"
   ]
  },
  {
   "cell_type": "code",
   "execution_count": null,
   "id": "45fe7414-ff8d-406e-91bb-2f5b34084ef1",
   "metadata": {},
   "outputs": [],
   "source": []
  }
 ],
 "metadata": {
  "kernelspec": {
   "display_name": "Python 3 (ipykernel)",
   "language": "python",
   "name": "python3"
  },
  "language_info": {
   "codemirror_mode": {
    "name": "ipython",
    "version": 3
   },
   "file_extension": ".py",
   "mimetype": "text/x-python",
   "name": "python",
   "nbconvert_exporter": "python",
   "pygments_lexer": "ipython3",
   "version": "3.12.4"
  }
 },
 "nbformat": 4,
 "nbformat_minor": 5
}

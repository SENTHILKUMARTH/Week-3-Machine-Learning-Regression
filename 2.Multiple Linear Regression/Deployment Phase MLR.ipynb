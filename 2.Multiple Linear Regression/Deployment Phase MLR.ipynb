{
 "cells": [
  {
   "cell_type": "code",
   "execution_count": 1,
   "id": "d21e6702-edd5-44f1-839f-d820640cc6a2",
   "metadata": {},
   "outputs": [],
   "source": [
    "import pickle\n",
    "Filename = \"Save_Multiple_Linear_Regression\""
   ]
  },
  {
   "cell_type": "code",
   "execution_count": 3,
   "id": "32241d19-8f91-4ada-9fdd-6bab5c0ae1d0",
   "metadata": {},
   "outputs": [],
   "source": [
    "loaded_model = pickle.load(open(Filename, 'rb'))"
   ]
  },
  {
   "cell_type": "code",
   "execution_count": null,
   "id": "fea8bbf2-d8cc-44cd-9898-5d2328c0bf36",
   "metadata": {},
   "outputs": [],
   "source": [
    "result = loaded_model([[23,232,11,5,1]])\n",
    "re"
   ]
  }
 ],
 "metadata": {
  "kernelspec": {
   "display_name": "Python 3 (ipykernel)",
   "language": "python",
   "name": "python3"
  },
  "language_info": {
   "codemirror_mode": {
    "name": "ipython",
    "version": 3
   },
   "file_extension": ".py",
   "mimetype": "text/x-python",
   "name": "python",
   "nbconvert_exporter": "python",
   "pygments_lexer": "ipython3",
   "version": "3.12.4"
  }
 },
 "nbformat": 4,
 "nbformat_minor": 5
}

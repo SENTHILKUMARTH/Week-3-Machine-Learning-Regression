{
 "cells": [
  {
   "cell_type": "code",
   "execution_count": 12,
   "id": "d21e6702-edd5-44f1-839f-d820640cc6a2",
   "metadata": {},
   "outputs": [],
   "source": [
    "import pickle\n",
    "Filename = \"Save_Multiple_Linear_Regression\""
   ]
  },
  {
   "cell_type": "code",
   "execution_count": 14,
   "id": "32241d19-8f91-4ada-9fdd-6bab5c0ae1d0",
   "metadata": {},
   "outputs": [],
   "source": [
    "loaded_model = pickle.load(open(Filename, 'rb'))"
   ]
  },
  {
   "cell_type": "code",
   "execution_count": 23,
   "id": "fea8bbf2-d8cc-44cd-9898-5d2328c0bf36",
   "metadata": {},
   "outputs": [
    {
     "name": "stderr",
     "output_type": "stream",
     "text": [
      "C:\\ProgramData\\anaconda3\\Lib\\site-packages\\sklearn\\base.py:493: UserWarning: X does not have valid feature names, but LinearRegression was fitted with feature names\n",
      "  warnings.warn(\n"
     ]
    },
    {
     "data": {
      "text/plain": [
       "array([[45049.35155237]])"
      ]
     },
     "execution_count": 23,
     "metadata": {},
     "output_type": "execute_result"
    }
   ],
   "source": [
    "result = loaded_model.predict([[23,232,11,5,1]])\n",
    "result"
   ]
  },
  {
   "cell_type": "code",
   "execution_count": null,
   "id": "c02e77ef-ee65-4e33-bb61-e474200cf1dc",
   "metadata": {},
   "outputs": [],
   "source": []
  },
  {
   "cell_type": "code",
   "execution_count": null,
   "id": "bb5ac3dd-a816-4f3d-a74a-bad4e515b257",
   "metadata": {},
   "outputs": [],
   "source": []
  }
 ],
 "metadata": {
  "kernelspec": {
   "display_name": "Python 3 (ipykernel)",
   "language": "python",
   "name": "python3"
  },
  "language_info": {
   "codemirror_mode": {
    "name": "ipython",
    "version": 3
   },
   "file_extension": ".py",
   "mimetype": "text/x-python",
   "name": "python",
   "nbconvert_exporter": "python",
   "pygments_lexer": "ipython3",
   "version": "3.12.4"
  }
 },
 "nbformat": 4,
 "nbformat_minor": 5
}

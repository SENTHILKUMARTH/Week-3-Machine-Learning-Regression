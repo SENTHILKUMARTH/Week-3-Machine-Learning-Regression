{
 "cells": [
  {
   "cell_type": "code",
   "execution_count": 7,
   "id": "78ae5cc7-578a-486b-8667-f8982dcb9681",
   "metadata": {},
   "outputs": [],
   "source": [
    "#pickle is a library to save and load the model\n",
    "import pickle\n",
    "filename = \"finalized_model_linear.sav\""
   ]
  },
  {
   "cell_type": "code",
   "execution_count": 11,
   "id": "e800f10f-a866-4ec6-9c88-61894939ad6c",
   "metadata": {},
   "outputs": [
    {
     "name": "stderr",
     "output_type": "stream",
     "text": [
      "C:\\ProgramData\\anaconda3\\Lib\\site-packages\\sklearn\\base.py:493: UserWarning: X does not have valid feature names, but LinearRegression was fitted with feature names\n",
      "  warnings.warn(\n"
     ]
    },
    {
     "data": {
      "text/plain": [
       "array([[157821.04934791]])"
      ]
     },
     "execution_count": 11,
     "metadata": {},
     "output_type": "execute_result"
    }
   ],
   "source": [
    "#loading the values with the read binary mode\n",
    "loaded_model = pickle.load(open(filename, 'rb'))\n",
    "#passing the new input value as 14\n",
    "result = loaded_model.predict([[14]])\n",
    "result"
   ]
  },
  {
   "cell_type": "code",
   "execution_count": null,
   "id": "ad05da35-24ac-44e0-9d1a-d1c23ea62812",
   "metadata": {},
   "outputs": [],
   "source": []
  }
 ],
 "metadata": {
  "kernelspec": {
   "display_name": "Python 3 (ipykernel)",
   "language": "python",
   "name": "python3"
  },
  "language_info": {
   "codemirror_mode": {
    "name": "ipython",
    "version": 3
   },
   "file_extension": ".py",
   "mimetype": "text/x-python",
   "name": "python",
   "nbconvert_exporter": "python",
   "pygments_lexer": "ipython3",
   "version": "3.12.4"
  }
 },
 "nbformat": 4,
 "nbformat_minor": 5
}
